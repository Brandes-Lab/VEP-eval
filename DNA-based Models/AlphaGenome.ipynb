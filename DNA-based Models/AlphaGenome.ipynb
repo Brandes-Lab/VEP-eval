{
 "cells": [
  {
   "cell_type": "markdown",
   "metadata": {},
   "source": [
    "1. Download dependencies and model"
   ]
  },
  {
   "cell_type": "code",
   "execution_count": 2,
   "metadata": {
    "scrolled": true
   },
   "outputs": [
    {
     "name": "stdout",
     "output_type": "stream",
     "text": [
      "Found existing installation: numpy 1.26.4\n",
      "Uninstalling numpy-1.26.4:\n",
      "  Successfully uninstalled numpy-1.26.4\n",
      "Defaulting to user installation because normal site-packages is not writeable\n",
      "Requirement already satisfied: numpy<2.0.0 in /usr/lib/python3/dist-packages (1.21.5)\n",
      "Collecting numpy<2.0.0\n",
      "  Using cached numpy-1.26.4-cp310-cp310-manylinux_2_17_x86_64.manylinux2014_x86_64.whl (18.2 MB)\n",
      "Installing collected packages: numpy\n",
      "Successfully installed numpy-1.26.4\n",
      "Defaulting to user installation because normal site-packages is not writeable\n",
      "Requirement already satisfied: alphagenome in /home/ubuntu/.local/lib/python3.10/site-packages (0.1.0)\n",
      "Requirement already satisfied: seaborn in /home/ubuntu/.local/lib/python3.10/site-packages (from alphagenome) (0.13.2)\n",
      "Requirement already satisfied: protobuf>=5.28.3 in /home/ubuntu/.local/lib/python3.10/site-packages (from alphagenome) (6.31.1)\n",
      "Requirement already satisfied: typing-extensions in /home/ubuntu/.local/lib/python3.10/site-packages (from alphagenome) (4.14.1)\n",
      "Requirement already satisfied: immutabledict in /home/ubuntu/.local/lib/python3.10/site-packages (from alphagenome) (4.2.1)\n",
      "Requirement already satisfied: grpcio>=1.67.1 in /home/ubuntu/.local/lib/python3.10/site-packages (from alphagenome) (1.74.0)\n",
      "Requirement already satisfied: numpy in /home/ubuntu/.local/lib/python3.10/site-packages (from alphagenome) (1.26.4)\n",
      "Requirement already satisfied: matplotlib in /usr/lib/python3/dist-packages (from alphagenome) (3.5.1)\n",
      "Requirement already satisfied: intervaltree in /home/ubuntu/.local/lib/python3.10/site-packages (from alphagenome) (3.1.0)\n",
      "Requirement already satisfied: ml-dtypes in /usr/lib/python3/dist-packages (from alphagenome) (0.5.1)\n",
      "Requirement already satisfied: absl-py in /usr/lib/python3/dist-packages (from alphagenome) (2.1.0)\n",
      "Requirement already satisfied: pandas in /home/ubuntu/.local/lib/python3.10/site-packages (from alphagenome) (2.3.1)\n",
      "Requirement already satisfied: typeguard in /home/ubuntu/.local/lib/python3.10/site-packages (from alphagenome) (4.4.4)\n",
      "Requirement already satisfied: zstandard in /home/ubuntu/.local/lib/python3.10/site-packages (from alphagenome) (0.23.0)\n",
      "Requirement already satisfied: pyarrow in /home/ubuntu/.local/lib/python3.10/site-packages (from alphagenome) (21.0.0)\n",
      "Requirement already satisfied: jaxtyping in /home/ubuntu/.local/lib/python3.10/site-packages (from alphagenome) (0.3.2)\n",
      "Requirement already satisfied: tqdm in /home/ubuntu/.local/lib/python3.10/site-packages (from alphagenome) (4.67.1)\n",
      "Requirement already satisfied: scipy in /home/ubuntu/.local/lib/python3.10/site-packages (from alphagenome) (1.15.3)\n",
      "Requirement already satisfied: anndata in /home/ubuntu/.local/lib/python3.10/site-packages (from alphagenome) (0.11.4)\n",
      "Requirement already satisfied: array-api-compat!=1.5,>1.4 in /home/ubuntu/.local/lib/python3.10/site-packages (from anndata->alphagenome) (1.12.0)\n",
      "Requirement already satisfied: natsort in /home/ubuntu/.local/lib/python3.10/site-packages (from anndata->alphagenome) (8.4.0)\n",
      "Requirement already satisfied: h5py>=3.7 in /home/ubuntu/.local/lib/python3.10/site-packages (from anndata->alphagenome) (3.14.0)\n",
      "Requirement already satisfied: exceptiongroup in /home/ubuntu/.local/lib/python3.10/site-packages (from anndata->alphagenome) (1.3.0)\n",
      "Requirement already satisfied: packaging>=24.2 in /home/ubuntu/.local/lib/python3.10/site-packages (from anndata->alphagenome) (25.0)\n",
      "Requirement already satisfied: python-dateutil>=2.8.2 in /home/ubuntu/.local/lib/python3.10/site-packages (from pandas->alphagenome) (2.9.0.post0)\n",
      "Requirement already satisfied: pytz>=2020.1 in /usr/lib/python3/dist-packages (from pandas->alphagenome) (2022.1)\n",
      "Requirement already satisfied: tzdata>=2022.7 in /home/ubuntu/.local/lib/python3.10/site-packages (from pandas->alphagenome) (2025.2)\n",
      "Requirement already satisfied: sortedcontainers<3.0,>=2.0 in /home/ubuntu/.local/lib/python3.10/site-packages (from intervaltree->alphagenome) (2.4.0)\n",
      "Requirement already satisfied: wadler-lindig>=0.1.3 in /home/ubuntu/.local/lib/python3.10/site-packages (from jaxtyping->alphagenome) (0.1.7)\n",
      "Requirement already satisfied: six>=1.5 in /usr/lib/python3/dist-packages (from python-dateutil>=2.8.2->pandas->alphagenome) (1.16.0)\n"
     ]
    }
   ],
   "source": [
    "from IPython.display import clear_output\n",
    "!pip uninstall -y numpy\n",
    "!pip install \"numpy<2.0.0\" --upgrade\n",
    "! pip install alphagenome"
   ]
  },
  {
   "cell_type": "markdown",
   "metadata": {},
   "source": [
    "2. Compute the AlphaGenome scores"
   ]
  },
  {
   "cell_type": "code",
   "execution_count": null,
   "metadata": {
    "colab": {
     "height": 843
    },
    "executionInfo": {
     "elapsed": 9712,
     "status": "ok",
     "timestamp": 1750434771476,
     "user": {
      "displayName": "",
      "userId": ""
     },
     "user_tz": 420
    },
    "id": "fNX9Mg80HuPZ",
    "outputId": "511dc249-a30b-4382-b83d-cb59a4e0dbfc"
   },
   "outputs": [
    {
     "name": "stdout",
     "output_type": "stream",
     "text": [
      "Total rows in CSV: 10\n"
     ]
    },
    {
     "name": "stderr",
     "output_type": "stream",
     "text": [
      "Scoring variants: 100%|██████████| 10/10 [00:37<00:00,  3.76s/it]"
     ]
    },
    {
     "name": "stdout",
     "output_type": "stream",
     "text": [
      "Building top-abs dataframe...\n",
      "Scoring completed and results saved.\n"
     ]
    },
    {
     "name": "stderr",
     "output_type": "stream",
     "text": [
      "\n"
     ]
    }
   ],
   "source": [
    "import pandas as pd\n",
    "from io import StringIO\n",
    "from alphagenome.data import genome\n",
    "from alphagenome.models import dna_client, variant_scorers\n",
    "from tqdm import tqdm\n",
    "import numpy as np\n",
    "\n",
    "# Obtain your API key from: https://deepmind.google.com/science/alphagenome/\n",
    "API_KEY = \"\"\n",
    "\n",
    "# Initialize the dna_model client\n",
    "dna_model = dna_client.create(API_KEY)\n",
    "\n",
    "# Configuration\n",
    "CSV_PATH = \"e.csv\"  # Replace with your local CSV file\n",
    "ORGANISM_NAME = \"human\"  # Options: \"human\", \"mouse\"\n",
    "SEQUENCE_LENGTH = \"1MB\"  # Options: \"2KB\", \"16KB\", \"100KB\", \"500KB\", \"1MB\"\n",
    "\n",
    "scorer_selections = {\n",
    "    'rna_seq': True,\n",
    "    'cage': True,\n",
    "    'procap': True,\n",
    "    'atac': True,\n",
    "    'dnase': True,\n",
    "    'chip_histone': True,\n",
    "    'chip_tf': True,\n",
    "    'polyadenylation': True,\n",
    "    'splice_sites': True,\n",
    "    'splice_site_usage': True,\n",
    "    'splice_junctions': True,\n",
    "}\n",
    "\n",
    "# Initialize model and scorers\n",
    "organism_map = {\n",
    "    'human': dna_client.Organism.HOMO_SAPIENS,\n",
    "    'mouse': dna_client.Organism.MUS_MUSCULUS,\n",
    "}\n",
    "organism = organism_map[ORGANISM_NAME]\n",
    "\n",
    "sequence_length = dna_client.SUPPORTED_SEQUENCE_LENGTHS[\n",
    "    f'SEQUENCE_LENGTH_{SEQUENCE_LENGTH}'\n",
    "]\n",
    "\n",
    "all_scorers = variant_scorers.RECOMMENDED_VARIANT_SCORERS\n",
    "selected_scorers = [\n",
    "    all_scorers[key]\n",
    "    for key in all_scorers\n",
    "    if scorer_selections.get(key.lower(), False)\n",
    "]\n",
    "\n",
    "unsupported_scorers = [\n",
    "    scorer for scorer in selected_scorers\n",
    "    if (\n",
    "        organism.value not in variant_scorers.SUPPORTED_ORGANISMS[scorer.base_variant_scorer]\n",
    "        or (\n",
    "            scorer.requested_output == dna_client.OutputType.PROCAP\n",
    "            and organism == dna_client.Organism.MUS_MUSCULUS\n",
    "        )\n",
    "    )\n",
    "]\n",
    "for scorer in unsupported_scorers:\n",
    "    selected_scorers.remove(scorer)\n",
    "\n",
    "# Load and preprocess input CSV\n",
    "csv = pd.read_csv(CSV_PATH)\n",
    "csv = csv.head(10)\n",
    "print(\"Total rows in CSV:\", len(csv))\n",
    "\n",
    "csv[\"#CHROM\"] = csv[\"#CHROM\"].astype(str)\n",
    "csv[\"#CHROM\"] = csv[\"#CHROM\"].apply(lambda x: x if x.startswith(\"chr\") else f\"chr{x}\")\n",
    "\n",
    "if 'variant_id' not in csv.columns:\n",
    "    csv[\"variant_id\"] = (\n",
    "        csv[\"#CHROM\"].astype(str) + \"_\" +\n",
    "        csv[\"POS\"].astype(str) + \"_\" +\n",
    "        csv[\"REF\"] + \"_\" +\n",
    "        csv[\"ALT\"] + \"_b38\"\n",
    "    )\n",
    "\n",
    "valid_chroms = {f\"chr{i}\" for i in range(1, 23)} | {\"chrX\", \"chrY\", \"chrM\"}\n",
    "csv = csv[csv[\"#CHROM\"].isin(valid_chroms)]\n",
    "\n",
    "csv = csv[\n",
    "    csv[\"REF\"].str.match(\"^[ACGT]$\") &\n",
    "    csv[\"ALT\"].str.match(\"^[ACGT]$\")\n",
    "].copy()\n",
    "\n",
    "required_columns = ['variant_id', '#CHROM', 'POS', 'REF', 'ALT']\n",
    "for col in required_columns:\n",
    "    if col not in csv.columns:\n",
    "        raise ValueError(f\"Missing required column: {col}\")\n",
    "\n",
    "# Score variants and track max absolute values\n",
    "quantile_max = {}\n",
    "raw_max = {}\n",
    "\n",
    "for i, row in tqdm(csv.iterrows(), total=len(csv), desc=\"Scoring variants\"):\n",
    "    try:\n",
    "        variant = genome.Variant(\n",
    "            chromosome=str(row[\"#CHROM\"]),\n",
    "            position=int(row[\"POS\"]),\n",
    "            reference_bases=row[\"REF\"],\n",
    "            alternate_bases=row[\"ALT\"],\n",
    "            name=row[\"variant_id\"],\n",
    "        )\n",
    "        interval = variant.reference_interval.resize(sequence_length)\n",
    "\n",
    "        variant_scores = dna_model.score_variant(\n",
    "            interval=interval,\n",
    "            variant=variant,\n",
    "            variant_scorers=selected_scorers,\n",
    "            organism=organism,\n",
    "        )\n",
    "\n",
    "        df_scores = variant_scorers.tidy_scores([variant_scores])\n",
    "        df_scores[\"variant_id\"] = df_scores[\"variant_id\"].astype(str)\n",
    "\n",
    "        def convert_variant_id(v):\n",
    "            chrom, pos, change = v.split(\":\")\n",
    "            ref, alt = change.split(\">\")\n",
    "            return f\"{chrom}_{pos}_{ref}_{alt}_b38\"\n",
    "\n",
    "        df_scores[\"variant_id\"] = df_scores[\"variant_id\"].apply(convert_variant_id)\n",
    "\n",
    "        for _, s in df_scores.iterrows():\n",
    "            vid = s[\"variant_id\"]\n",
    "            q_abs = abs(s[\"quantile_score\"])\n",
    "            r_abs = abs(s[\"raw_score\"])\n",
    "\n",
    "            if (vid not in quantile_max) or (q_abs > quantile_max[vid]):\n",
    "                quantile_max[vid] = q_abs\n",
    "\n",
    "            if (vid not in raw_max) or (r_abs > raw_max[vid]):\n",
    "                raw_max[vid] = r_abs\n",
    "\n",
    "    except Exception as e:\n",
    "        print(f\"\\n Error scoring variant {i}: {e}\")\n",
    "        print(\"Variant record causing error:\")\n",
    "        print(row.to_dict())\n",
    "        print(\"-\" * 60)\n",
    "        continue\n",
    "\n",
    "# Build final result table and save\n",
    "print(\"Building top-abs dataframe...\")\n",
    "df_top = pd.DataFrame([\n",
    "    {\n",
    "        \"variant_id\": vid,\n",
    "        \"quantile_abs\": quantile_max.get(vid, np.nan),\n",
    "        \"raw_abs\": raw_max.get(vid, np.nan),\n",
    "    }\n",
    "    for vid in csv[\"variant_id\"]\n",
    "])\n",
    "\n",
    "df_final = csv.merge(df_top, on=\"variant_id\", how=\"left\")\n",
    "df_final.to_csv(\"alphagenome.csv\", index=False)\n",
    "print(\"Scoring completed and results saved.\")"
   ]
  }
 ],
 "metadata": {
  "colab": {
   "last_runtime": {
    "build_target": "//third_party/py/AlphaGenome:notebook",
    "kind": "private"
   },
   "name": "batch_variant_scoring.ipynb",
   "provenance": [
    {
     "file_id": "1RzAW0xmRFe7UkS0HKCOFFV6tVkc_elUh",
     "timestamp": 1729614262382
    },
    {
     "file_id": "",
     "timestamp": 1729177232324
    },
    {
     "file_id": "1UcU771Brz691HgrtQBrA41Qrq55_GgJS",
     "timestamp": 1728927969951
    }
   ]
  },
  "kernelspec": {
   "display_name": "Python 3 (ipykernel)",
   "language": "python",
   "name": "python3"
  },
  "language_info": {
   "codemirror_mode": {
    "name": "ipython",
    "version": 3
   },
   "file_extension": ".py",
   "mimetype": "text/x-python",
   "name": "python",
   "nbconvert_exporter": "python",
   "pygments_lexer": "ipython3",
   "version": "3.10.12"
  }
 },
 "nbformat": 4,
 "nbformat_minor": 4
}
