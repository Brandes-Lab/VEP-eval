{
 "cells": [
  {
   "cell_type": "markdown",
   "id": "fe387173",
   "metadata": {},
   "source": [
    "1. Download dependencies"
   ]
  },
  {
   "cell_type": "code",
   "execution_count": 1,
   "id": "6a8f4f12-3833-4576-a82d-39672fd678e9",
   "metadata": {},
   "outputs": [
    {
     "name": "stdout",
     "output_type": "stream",
     "text": [
      "Defaulting to user installation because normal site-packages is not writeable\n",
      "Requirement already satisfied: pandas in /home/ubuntu/.local/lib/python3.10/site-packages (2.3.1)\n",
      "Requirement already satisfied: pybigwig in /home/ubuntu/.local/lib/python3.10/site-packages (0.3.24)\n",
      "Requirement already satisfied: tqdm in /home/ubuntu/.local/lib/python3.10/site-packages (4.67.1)\n",
      "Requirement already satisfied: python-dateutil>=2.8.2 in /home/ubuntu/.local/lib/python3.10/site-packages (from pandas) (2.9.0.post0)\n",
      "Requirement already satisfied: numpy>=1.22.4 in /home/ubuntu/.local/lib/python3.10/site-packages (from pandas) (1.26.4)\n",
      "Requirement already satisfied: tzdata>=2022.7 in /home/ubuntu/.local/lib/python3.10/site-packages (from pandas) (2025.2)\n",
      "Requirement already satisfied: pytz>=2020.1 in /usr/lib/python3/dist-packages (from pandas) (2022.1)\n",
      "Requirement already satisfied: six>=1.5 in /usr/lib/python3/dist-packages (from python-dateutil>=2.8.2->pandas) (1.16.0)\n",
      "Note: you may need to restart the kernel to use updated packages.\n"
     ]
    }
   ],
   "source": [
    "pip install pandas pybigwig tqdm pyfaidx"
   ]
  },
  {
   "cell_type": "markdown",
   "id": "10bd690f",
   "metadata": {},
   "source": [
    "2. Download PhyloP scores for 100 vertebrate species (in bigWig format)"
   ]
  },
  {
   "cell_type": "code",
   "execution_count": 2,
   "id": "d6dccf21-e5a0-4995-963f-195cdad46da8",
   "metadata": {},
   "outputs": [
    {
     "name": "stdout",
     "output_type": "stream",
     "text": [
      "--2025-08-02 14:51:11--  http://hgdownload.soe.ucsc.edu/goldenPath/hg38/phyloP100way/hg38.phyloP100way.bw\n",
      "Resolving hgdownload.soe.ucsc.edu (hgdownload.soe.ucsc.edu)... 128.114.119.163\n",
      "Connecting to hgdownload.soe.ucsc.edu (hgdownload.soe.ucsc.edu)|128.114.119.163|:80... connected.\n",
      "HTTP request sent, awaiting response... 200 OK\n",
      "Length: 9870053206 (9.2G)\n",
      "Saving to: ‘hg38.phyloP100way.bw’\n",
      "\n",
      "hg38.phyloP100way.b 100%[===================>]   9.19G  24.4MB/s    in 6m 5s   \n",
      "\n",
      "2025-08-02 14:57:17 (25.8 MB/s) - ‘hg38.phyloP100way.bw’ saved [9870053206/9870053206]\n",
      "\n"
     ]
    }
   ],
   "source": [
    "!wget http://hgdownload.soe.ucsc.edu/goldenPath/hg38/phyloP100way/hg38.phyloP100way.bw"
   ]
  },
  {
   "cell_type": "markdown",
   "id": "adfd9f6f",
   "metadata": {},
   "source": [
    "3. Extract the PhyloP scores"
   ]
  },
  {
   "cell_type": "code",
   "execution_count": 4,
   "id": "f53c881b-0e7e-498b-8112-33715c1fc53d",
   "metadata": {},
   "outputs": [
    {
     "name": "stderr",
     "output_type": "stream",
     "text": [
      "Querying PhyloP: 100%|██████████| 100/100 [00:00<00:00, 2008.74it/s]"
     ]
    },
    {
     "name": "stdout",
     "output_type": "stream",
     "text": [
      "Done! Results saved to: phylop.csv\n"
     ]
    },
    {
     "name": "stderr",
     "output_type": "stream",
     "text": [
      "\n"
     ]
    }
   ],
   "source": [
    "import pandas as pd\n",
    "import pyBigWig\n",
    "from tqdm import tqdm\n",
    "\n",
    "# Configure file paths\n",
    "input_csv = \"all.csv\"                    # Path to your variant CSV file\n",
    "bw_file = \"hg38.phyloP100way.bw\"         # PhyloP bigWig file downloaded from UCSC\n",
    "output_csv = \"phylop.csv\"                # Output CSV path\n",
    "\n",
    "# Load CSV\n",
    "df = pd.read_csv(input_csv)\n",
    "df = df.head(100)\n",
    "\n",
    "# Open bigWig file\n",
    "bw = pyBigWig.open(bw_file)\n",
    "\n",
    "# Query PhyloP scores with progress bar\n",
    "phylop_scores = []\n",
    "for i, row in tqdm(df.iterrows(), total=len(df), desc=\"Querying PhyloP\"):\n",
    "    chrom = str(row[\"#CHROM\"]).replace(\"chr\", \"\")\n",
    "    if not chrom.startswith(\"chr\"):\n",
    "        chrom = \"chr\" + chrom\n",
    "    pos = int(row[\"POS\"])\n",
    "    try:\n",
    "        score = bw.values(chrom, pos - 1, pos)[0]\n",
    "    except:\n",
    "        score = None\n",
    "    phylop_scores.append(score)\n",
    "\n",
    "# Add scores to DataFrame\n",
    "df[\"PhyloP\"] = phylop_scores\n",
    "\n",
    "# Save result\n",
    "df.to_csv(output_csv, index=False)\n",
    "print(f\"Done! Results saved to: {output_csv}\")"
   ]
  }
 ],
 "metadata": {
  "kernelspec": {
   "display_name": "Python 3 (ipykernel)",
   "language": "python",
   "name": "python3"
  },
  "language_info": {
   "codemirror_mode": {
    "name": "ipython",
    "version": 3
   },
   "file_extension": ".py",
   "mimetype": "text/x-python",
   "name": "python",
   "nbconvert_exporter": "python",
   "pygments_lexer": "ipython3",
   "version": "3.10.12"
  }
 },
 "nbformat": 4,
 "nbformat_minor": 5
}
