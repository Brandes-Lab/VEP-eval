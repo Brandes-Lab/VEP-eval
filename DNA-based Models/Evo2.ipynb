{
 "cells": [
  {
   "cell_type": "markdown",
   "id": "91333487",
   "metadata": {},
   "source": [
    "1. Download dependencies and hg38 genome"
   ]
  },
  {
   "cell_type": "code",
   "execution_count": 1,
   "id": "0ea7ba1f-7ee2-4a56-ac26-bb0c279214cb",
   "metadata": {},
   "outputs": [
    {
     "name": "stdout",
     "output_type": "stream",
     "text": [
      "Defaulting to user installation because normal site-packages is not writeable\n",
      "Requirement already satisfied: pyfaidx in /home/ubuntu/.local/lib/python3.10/site-packages (0.8.1.4)\n",
      "Requirement already satisfied: packaging in /home/ubuntu/.local/lib/python3.10/site-packages (from pyfaidx) (25.0)\n",
      "Defaulting to user installation because normal site-packages is not writeable\n",
      "Requirement already satisfied: ipywidgets in /home/ubuntu/.local/lib/python3.10/site-packages (8.1.7)\n",
      "Requirement already satisfied: ipython>=6.1.0 in /usr/lib/python3/dist-packages (from ipywidgets) (7.31.1)\n",
      "Requirement already satisfied: jupyterlab_widgets~=3.0.15 in /home/ubuntu/.local/lib/python3.10/site-packages (from ipywidgets) (3.0.15)\n",
      "Requirement already satisfied: widgetsnbextension~=4.0.14 in /home/ubuntu/.local/lib/python3.10/site-packages (from ipywidgets) (4.0.14)\n",
      "Requirement already satisfied: traitlets>=4.3.1 in /usr/lib/python3/dist-packages (from ipywidgets) (5.1.1)\n",
      "Requirement already satisfied: comm>=0.1.3 in /home/ubuntu/.local/lib/python3.10/site-packages (from ipywidgets) (0.2.3)\n"
     ]
    }
   ],
   "source": [
    "!pip install pyfaidx \n",
    "!pip install ipywidgets\n",
    "!wget -c http://hgdownload.cse.ucsc.edu/goldenpath/hg38/bigZips/hg38.fa.gz\n",
    "!gunzip -k hg38.fa.gz"
   ]
  },
  {
   "cell_type": "markdown",
   "id": "cab24b17",
   "metadata": {},
   "source": [
    "2. Generate input sequences"
   ]
  },
  {
   "cell_type": "code",
   "execution_count": null,
   "id": "9ceb62fb-ad66-4e25-ab92-dd128cf22608",
   "metadata": {},
   "outputs": [],
   "source": [
    "import pandas as pd\n",
    "import requests\n",
    "from tqdm import tqdm\n",
    "from pyfaidx import Fasta\n",
    "import numpy as np\n",
    "import os\n",
    "\n",
    "os.environ[\"PYTORCH_CUDA_ALLOC_CONF\"] = \"expandable_segments:True\"\n",
    "\n",
    "df = pd.read_csv(\"all.csv\")\n",
    "df = df.head(100)\n",
    "\n",
    "# Load reference genome\n",
    "genome = Fasta(\"hg38.fa\")\n",
    "\n",
    "# Set sequence window size\n",
    "window = 4096\n",
    "\n",
    "# Step 4: Extract flanking sequences around the variant\n",
    "def get_sequence(row, flank_size=256):\n",
    "    try:\n",
    "        chrom = str(row[\"#CHROM\"])\n",
    "        if not chrom.startswith(\"chr\"):\n",
    "            chrom = \"chr\" + chrom\n",
    "\n",
    "        pos = int(row[\"POS\"])\n",
    "        start = max(0, pos - flank_size - 1)\n",
    "        end = pos + flank_size\n",
    "\n",
    "        if chrom not in genome:\n",
    "            return None\n",
    "\n",
    "        seq = genome[chrom][start:end].seq.upper()\n",
    "\n",
    "        if len(seq) != (2 * flank_size + 1):\n",
    "            return None\n",
    "\n",
    "        return seq\n",
    "    except Exception as e:\n",
    "        print(f\"[⚠️ get_sequence] Error: {e}\")\n",
    "        return None\n",
    "\n",
    "# Generate mutant sequence with ALT allele at the center\n",
    "def generate_mutant_sequence(row, flank_size=256):\n",
    "    try:\n",
    "        seq = list(row[\"Context_Sequence\"])\n",
    "        mut_pos = flank_size  # Mutation is centered\n",
    "\n",
    "        if len(row[\"REF\"]) != 1 or len(row[\"ALT\"]) != 1:\n",
    "            return None\n",
    "\n",
    "        if seq[mut_pos] != row[\"REF\"]:\n",
    "            return None\n",
    "\n",
    "        seq[mut_pos] = row[\"ALT\"]\n",
    "        return \"\".join(seq)\n",
    "    except Exception as e:\n",
    "        print(f\"[⚠️ generate_mutant_sequence] Error: {e}\")\n",
    "        return None\n",
    "\n",
    "tqdm.pandas()\n",
    "\n",
    "# Extract reference sequence around mutation\n",
    "df[\"Context_Sequence\"] = df.progress_apply(lambda row: get_sequence(row, flank_size=window), axis=1)\n",
    "df.dropna(subset=[\"Context_Sequence\"], inplace=True)\n",
    "\n",
    "# Generate mutant sequences\n",
    "df[\"Mutant_Sequence\"] = df.progress_apply(lambda row: generate_mutant_sequence(row, flank_size=window), axis=1)\n",
    "df.dropna(subset=[\"Mutant_Sequence\"], inplace=True)\n",
    "\n",
    "print(f\"Successfully generated context and mutant sequences. Total valid records: {len(df)}\")"
   ]
  },
  {
   "cell_type": "markdown",
   "id": "623a0f94",
   "metadata": {},
   "source": [
    "3. Compute the Evo2 score"
   ]
  },
  {
   "cell_type": "code",
   "execution_count": null,
   "id": "091ec331-8633-42d3-8062-d63a0b884822",
   "metadata": {},
   "outputs": [],
   "source": [
    "from evo2.models import Evo2\n",
    "import torch\n",
    "\n",
    "# Load model\n",
    "model = Evo2('evo2_7b_base')\n",
    "\n",
    "# Get reference and variant sequence lists\n",
    "ref_seqs = df[\"Context_Sequence\"].tolist()\n",
    "var_seqs = df[\"Mutant_Sequence\"].tolist()\n",
    "\n",
    "# Check CUDA device\n",
    "print(\"CUDA available:\", torch.cuda.is_available())\n",
    "print(\"Current device:\", torch.cuda.current_device())\n",
    "print(\"Device name:\", torch.cuda.get_device_name())\n",
    "\n",
    "# Score sequences using the Evo 2 model\n",
    "print(f\"Scoring likelihoods of {len(ref_seqs)} reference sequences with Evo 2...\")\n",
    "ref_scores = model.score_sequences(ref_seqs, batch_size=20)\n",
    "\n",
    "print(f\"Scoring likelihoods of {len(var_seqs)} variant sequences with Evo 2...\")\n",
    "var_scores = model.score_sequences(var_seqs, batch_size=20)\n",
    "\n",
    "# Store results and compute delta score\n",
    "df[\"Ref_Score\"] = ref_scores\n",
    "df[\"Var_Score\"] = var_scores\n",
    "df[\"Delta_Score\"] = df[\"Var_Score\"] - df[\"Ref_Score\"]\n",
    "\n",
    "# Optionally drop sequences to save space\n",
    "df.drop(columns=[\"Context_Sequence\", \"Mutant_Sequence\"], inplace=True)\n",
    "\n",
    "# Save to CSV\n",
    "df.to_csv(\"evo2.csv\", index=False)"
   ]
  }
 ],
 "metadata": {
  "kernelspec": {
   "display_name": "Python 3 (ipykernel)",
   "language": "python",
   "name": "python3"
  },
  "language_info": {
   "codemirror_mode": {
    "name": "ipython",
    "version": 3
   },
   "file_extension": ".py",
   "mimetype": "text/x-python",
   "name": "python",
   "nbconvert_exporter": "python",
   "pygments_lexer": "ipython3",
   "version": "3.10.12"
  }
 },
 "nbformat": 4,
 "nbformat_minor": 5
}
